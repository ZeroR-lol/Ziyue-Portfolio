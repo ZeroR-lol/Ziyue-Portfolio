{
 "cells": [
  {
   "cell_type": "code",
   "execution_count": 1,
   "metadata": {},
   "outputs": [],
   "source": [
    "import pandas as pd\n",
    "\n",
    "import numpy as np\n",
    "\n",
    "from scipy.stats import boxcox\n",
    "\n",
    "from sklearn.model_selection import train_test_split, cross_val_score\n",
    "from sklearn.impute import SimpleImputer, KNNImputer\n",
    "from sklearn.preprocessing import MinMaxScaler, RobustScaler, OneHotEncoder\n",
    "\n",
    "import seaborn as sns\n",
    "import matplotlib.pyplot as plt"
   ]
  },
  {
   "cell_type": "code",
   "execution_count": 2,
   "metadata": {},
   "outputs": [],
   "source": [
    "np.random.seed(100)"
   ]
  },
  {
   "cell_type": "code",
   "execution_count": 3,
   "metadata": {},
   "outputs": [],
   "source": [
    "pd.options.display.max_rows = 100"
   ]
  },
  {
   "cell_type": "markdown",
   "metadata": {},
   "source": [
    "## Baseline Score\n",
    "- Submit sample_submission.csv to Kaggle to get a baseline score for our analysis\n",
    "- Evaluate Score is rmse between predicted price and actual price\n",
    "#### Baseline score is: 0.4089"
   ]
  },
  {
   "cell_type": "markdown",
   "metadata": {},
   "source": [
    "## Load Data and EDA (Continuous only)"
   ]
  },
  {
   "cell_type": "code",
   "execution_count": 4,
   "metadata": {},
   "outputs": [],
   "source": [
    "file_path = \"../../Dataset/house-prices-advanced-regression-techniques/\""
   ]
  },
  {
   "cell_type": "code",
   "execution_count": 473,
   "metadata": {},
   "outputs": [],
   "source": [
    "train = pd.read_csv(file_path + \"train.csv\")\n",
    "test = pd.read_csv(file_path + \"test.csv\")"
   ]
  },
  {
   "cell_type": "code",
   "execution_count": 474,
   "metadata": {},
   "outputs": [
    {
     "name": "stdout",
     "output_type": "stream",
     "text": [
      "(1460, 81)\n",
      "(1459, 80)\n"
     ]
    }
   ],
   "source": [
    "print(train.shape)\n",
    "print(test.shape)"
   ]
  },
  {
   "cell_type": "markdown",
   "metadata": {},
   "source": [
    "### Missing Values"
   ]
  },
  {
   "cell_type": "code",
   "execution_count": 475,
   "metadata": {},
   "outputs": [
    {
     "data": {
      "text/plain": [
       "LotFrontage      259\n",
       "Alley           1369\n",
       "MasVnrType         8\n",
       "MasVnrArea         8\n",
       "BsmtQual          37\n",
       "BsmtCond          37\n",
       "BsmtExposure      38\n",
       "BsmtFinType1      37\n",
       "BsmtFinType2      38\n",
       "Electrical         1\n",
       "FireplaceQu      690\n",
       "GarageType        81\n",
       "GarageYrBlt       81\n",
       "GarageFinish      81\n",
       "GarageQual        81\n",
       "GarageCond        81\n",
       "PoolQC          1453\n",
       "Fence           1179\n",
       "MiscFeature     1406\n",
       "dtype: int64"
      ]
     },
     "execution_count": 475,
     "metadata": {},
     "output_type": "execute_result"
    }
   ],
   "source": [
    "temp = train.isnull().sum()\n",
    "temp[temp != 0]"
   ]
  },
  {
   "cell_type": "code",
   "execution_count": 476,
   "metadata": {},
   "outputs": [
    {
     "data": {
      "text/plain": [
       "AllPub    1459\n",
       "NoSeWa       1\n",
       "Name: Utilities, dtype: int64"
      ]
     },
     "execution_count": 476,
     "metadata": {},
     "output_type": "execute_result"
    }
   ],
   "source": [
    "train['Utilities'].value_counts()"
   ]
  },
  {
   "cell_type": "code",
   "execution_count": 477,
   "metadata": {},
   "outputs": [],
   "source": [
    "# Utilities provide no useful info to the data...\n",
    "train.drop('Utilities', axis=1, inplace=True)\n",
    "test.drop('Utilities', axis=1, inplace=True)"
   ]
  },
  {
   "cell_type": "code",
   "execution_count": 478,
   "metadata": {},
   "outputs": [],
   "source": [
    "# Replace Null that represents no such values\n",
    "train['Alley'] = train['Alley'].fillna('None')\n",
    "train['MasVnrType'] = train['MasVnrType'].fillna('None')\n",
    "# Since no MasVnr, we fill the area as 0\n",
    "train['MasVnrArea'] = train['MasVnrArea'].fillna(0)\n",
    "\n",
    "train['BsmtQual'] = train['BsmtQual'].fillna('None')\n",
    "train['BsmtCond'] = train['BsmtCond'].fillna('None')\n",
    "train['BsmtExposure'] = train['BsmtExposure'].fillna('None')\n",
    "train['BsmtFinType1'] = train['BsmtFinType1'].fillna('None')\n",
    "train['BsmtFinType2'] = train['BsmtFinType2'].fillna('None')\n",
    "\n",
    "train['FireplaceQu'] = train['FireplaceQu'].fillna('None')\n",
    "\n",
    "train['GarageType'] = train['GarageType'].fillna('None')\n",
    "train['GarageFinish'] = train['GarageFinish'].fillna('None')\n",
    "train['GarageQual'] = train['GarageQual'].fillna('None')\n",
    "train['GarageCond'] = train['GarageCond'].fillna('None')\n",
    "# Continuous Variable\n",
    "train['GarageYrBlt'] = train['GarageYrBlt'].fillna(0)\n",
    "\n",
    "train['PoolQC'] = train['PoolQC'].fillna('None')\n",
    "train['Fence'] = train['Fence'].fillna('None')\n",
    "train['MiscFeature'] = train['MiscFeature'].fillna('None')"
   ]
  },
  {
   "cell_type": "code",
   "execution_count": 479,
   "metadata": {},
   "outputs": [],
   "source": [
    "####\n",
    "# Same thing for test set\n",
    "test['Alley'] = test['Alley'].fillna('None')\n",
    "test['MasVnrType'] = test['MasVnrType'].fillna('None')\n",
    "# Since no MasVnr, we fill the area as 0\n",
    "test['MasVnrArea'] = test['MasVnrArea'].fillna(0)\n",
    "\n",
    "test['BsmtQual'] = test['BsmtQual'].fillna('None')\n",
    "test['BsmtCond'] = test['BsmtCond'].fillna('None')\n",
    "test['BsmtExposure'] = test['BsmtExposure'].fillna('None')\n",
    "test['BsmtFinType1'] = test['BsmtFinType1'].fillna('None')\n",
    "test['BsmtFinType2'] = test['BsmtFinType2'].fillna('None')\n",
    "\n",
    "test['FireplaceQu'] = test['FireplaceQu'].fillna('None')\n",
    "\n",
    "test['GarageType'] = test['GarageType'].fillna('None')\n",
    "test['GarageFinish'] = test['GarageFinish'].fillna('None')\n",
    "test['GarageQual'] = test['GarageQual'].fillna('None')\n",
    "test['GarageCond'] = test['GarageCond'].fillna('None')\n",
    "# Continuous Variable\n",
    "test['GarageYrBlt'] = test['GarageYrBlt'].fillna(0)\n",
    "\n",
    "test['PoolQC'] = test['PoolQC'].fillna('None')\n",
    "test['Fence'] = test['Fence'].fillna('None')\n",
    "test['MiscFeature'] = test['MiscFeature'].fillna('None')"
   ]
  },
  {
   "cell_type": "code",
   "execution_count": 480,
   "metadata": {
    "scrolled": true
   },
   "outputs": [
    {
     "name": "stdout",
     "output_type": "stream",
     "text": [
      "SBrkr    1334\n",
      "FuseA      94\n",
      "FuseF      27\n",
      "FuseP       3\n",
      "Mix         1\n",
      "Name: Electrical, dtype: int64\n"
     ]
    }
   ],
   "source": [
    "# 1 Nan Values fill with mode. This NA maybe mistake.\n",
    "print(train['Electrical'].value_counts())\n",
    "train['Electrical'] = train['Electrical'].fillna(train['Electrical'].mode()[0])"
   ]
  },
  {
   "cell_type": "code",
   "execution_count": 481,
   "metadata": {},
   "outputs": [],
   "source": [
    "# Fill Null with train values to avoid data leakage\n",
    "test['Electrical'] = test['Electrical'].fillna(train['Electrical'].mode()[0])"
   ]
  },
  {
   "cell_type": "code",
   "execution_count": 482,
   "metadata": {},
   "outputs": [],
   "source": [
    "# Use KNN Imputer to impute LotFrontage\n",
    "imputer = KNNImputer(n_neighbors=3)\n",
    "knn_df = pd.get_dummies(train[['LotFrontage','Neighborhood', 'LotArea', 'LotConfig','LotShape']])\n",
    "\n",
    "train['LotFrontage'] = imputer.fit_transform(knn_df)[:,0]"
   ]
  },
  {
   "cell_type": "code",
   "execution_count": 483,
   "metadata": {},
   "outputs": [],
   "source": [
    "# Only Transform no fit to avoid data leakage\n",
    "test_knn_df = pd.get_dummies(test[['LotFrontage','Neighborhood', 'LotArea', 'LotConfig','LotShape']])\n",
    "test['LotFrontage'] = imputer.transform(test_knn_df)[:,0]"
   ]
  },
  {
   "cell_type": "code",
   "execution_count": 484,
   "metadata": {},
   "outputs": [
    {
     "data": {
      "text/plain": [
       "Series([], dtype: int64)"
      ]
     },
     "execution_count": 484,
     "metadata": {},
     "output_type": "execute_result"
    }
   ],
   "source": [
    "# Check on train missing values\n",
    "temp = train.isnull().sum()\n",
    "temp[temp != 0]"
   ]
  },
  {
   "cell_type": "code",
   "execution_count": 485,
   "metadata": {},
   "outputs": [
    {
     "data": {
      "text/plain": [
       "MSZoning        4\n",
       "Exterior1st     1\n",
       "Exterior2nd     1\n",
       "BsmtFinSF1      1\n",
       "BsmtFinSF2      1\n",
       "BsmtUnfSF       1\n",
       "TotalBsmtSF     1\n",
       "BsmtFullBath    2\n",
       "BsmtHalfBath    2\n",
       "KitchenQual     1\n",
       "Functional      2\n",
       "GarageCars      1\n",
       "GarageArea      1\n",
       "SaleType        1\n",
       "dtype: int64"
      ]
     },
     "execution_count": 485,
     "metadata": {},
     "output_type": "execute_result"
    }
   ],
   "source": [
    "# Check on test missing values\n",
    "temp2 = test.isnull().sum()\n",
    "temp2[temp2 != 0]"
   ]
  },
  {
   "cell_type": "code",
   "execution_count": 486,
   "metadata": {},
   "outputs": [
    {
     "name": "stdout",
     "output_type": "stream",
     "text": [
      "Fill MSZoning with train dataset mode: RL\n",
      "Fill Exterior1st with train dataset mode: VinylSd\n",
      "Fill Exterior2nd with train dataset mode: VinylSd\n",
      "Fill KitchenQual with train dataset mode: TA\n",
      "Fill SaleType with train dataset mode: WD\n"
     ]
    }
   ],
   "source": [
    "# We need to figure out how to impute missing values on the test dataset, too\n",
    "# Since I don't want to create new columns/categories, I won't fillna with None here\n",
    "# Because there is no None in train data. I will fill with mode\n",
    "test['MSZoning'] = test['MSZoning'].fillna(train['MSZoning'].mode()[0])\n",
    "print('Fill MSZoning with train dataset mode:', train['MSZoning'].mode()[0])\n",
    "\n",
    "# test['Utilities'] = test['Utilities'].fillna(train['Utilities'].mode()[0])\n",
    "# print('Fill Utilities with train dataset mode:', train['Utilities'].mode()[0])\n",
    "\n",
    "test['Exterior1st'] = test['Exterior1st'].fillna(train['Exterior1st'].mode()[0])\n",
    "print('Fill Exterior1st with train dataset mode:', train['Exterior1st'].mode()[0])\n",
    "\n",
    "test['Exterior2nd'] = test['Exterior2nd'].fillna(train['Exterior2nd'].mode()[0])\n",
    "print('Fill Exterior2nd with train dataset mode:', train['Exterior2nd'].mode()[0])\n",
    "\n",
    "test['KitchenQual'] = test['KitchenQual'].fillna(train['KitchenQual'].mode()[0])\n",
    "print('Fill KitchenQual with train dataset mode:', train['KitchenQual'].mode()[0])\n",
    "\n",
    "test['Functional'] = test['Functional'].fillna('Typ')\n",
    "##print('Fill MSZoning with train dataset mode:', train['Functional'].mode()[0])\n",
    "\n",
    "test['SaleType'] = test['SaleType'].fillna(train['SaleType'].mode()[0])\n",
    "print('Fill SaleType with train dataset mode:', train['SaleType'].mode()[0])"
   ]
  },
  {
   "cell_type": "code",
   "execution_count": 487,
   "metadata": {},
   "outputs": [],
   "source": [
    "# Fill test continuous missing values with 0 because probably they don't have it\n",
    "test['BsmtFinSF1'] = test['BsmtFinSF1'].fillna(0)\n",
    "test['BsmtFinSF2'] = test['BsmtFinSF2'].fillna(0)\n",
    "test['BsmtUnfSF'] = test['BsmtUnfSF'].fillna(0)\n",
    "test['TotalBsmtSF'] = test['TotalBsmtSF'].fillna(0)\n",
    "test['BsmtFullBath'] = test['BsmtFullBath'].fillna(0)\n",
    "test['BsmtHalfBath'] = test['BsmtHalfBath'].fillna(0)\n",
    "test['GarageCars'] = test['GarageCars'].fillna(0)\n",
    "test['GarageArea'] = test['GarageArea'].fillna(0)"
   ]
  },
  {
   "cell_type": "code",
   "execution_count": 488,
   "metadata": {},
   "outputs": [
    {
     "data": {
      "text/plain": [
       "Series([], dtype: int64)"
      ]
     },
     "execution_count": 488,
     "metadata": {},
     "output_type": "execute_result"
    }
   ],
   "source": [
    "# Check on test missing values\n",
    "temp2 = test.isnull().sum()\n",
    "temp2[temp2 != 0]"
   ]
  },
  {
   "cell_type": "markdown",
   "metadata": {},
   "source": [
    "### Outliers Detection"
   ]
  },
  {
   "cell_type": "code",
   "execution_count": 489,
   "metadata": {},
   "outputs": [],
   "source": [
    "# Numerical but actually categorical\n",
    "cat_as_num = ['MSSubClass', 'OverallQual', 'OverallCond', 'Id']\n",
    "year = ['YearBuilt', 'YearRemodAdd', 'GarageYrBlt', 'MoSold', 'YrSold']"
   ]
  },
  {
   "cell_type": "code",
   "execution_count": 490,
   "metadata": {},
   "outputs": [],
   "source": [
    "# numeric columns\n",
    "num_col = [c for c in train.columns if train[c].dtypes in ['int64', 'float64'] and c not in cat_as_num \n",
    "           and c not in year]\n",
    "# categorical columns\n",
    "cat_col = [c for c in train.columns if c not in num_col and c != 'Id']"
   ]
  },
  {
   "cell_type": "code",
   "execution_count": 491,
   "metadata": {
    "scrolled": true
   },
   "outputs": [
    {
     "data": {
      "text/plain": [
       "<matplotlib.axes._subplots.AxesSubplot at 0x1a2b37a128>"
      ]
     },
     "execution_count": 491,
     "metadata": {},
     "output_type": "execute_result"
    },
    {
     "data": {
      "image/png": "[encoded data removed]",
      "text/plain": [
       "<Figure size 432x288 with 1 Axes>"
      ]
     },
     "metadata": {
      "needs_background": "light"
     },
     "output_type": "display_data"
    }
   ],
   "source": [
    "sns.scatterplot(train['LotFrontage'], train['SalePrice'])"
   ]
  },
  {
   "cell_type": "code",
   "execution_count": 492,
   "metadata": {},
   "outputs": [],
   "source": [
    "# There are two outliers with really large LotFrontage but small Sale Price\n",
    "# Remove them\n",
    "train = train[~((train['LotFrontage']>200) & (train['SalePrice']<300000))]"
   ]
  },
  {
   "cell_type": "code",
   "execution_count": 493,
   "metadata": {},
   "outputs": [
    {
     "data": {
      "text/plain": [
       "<matplotlib.axes._subplots.AxesSubplot at 0x1a2b3b9828>"
      ]
     },
     "execution_count": 493,
     "metadata": {},
     "output_type": "execute_result"
    },
    {
     "data": {
      "image/png": "[encoded data removed]",
      "text/plain": [
       "<Figure size 432x288 with 1 Axes>"
      ]
     },
     "metadata": {
      "needs_background": "light"
     },
     "output_type": "display_data"
    }
   ],
   "source": [
    "sns.scatterplot(train['LotFrontage'], train['SalePrice'])"
   ]
  },
  {
   "cell_type": "code",
   "execution_count": 494,
   "metadata": {},
   "outputs": [
    {
     "data": {
      "text/plain": [
       "<matplotlib.axes._subplots.AxesSubplot at 0x1a2b3d86a0>"
      ]
     },
     "execution_count": 494,
     "metadata": {},
     "output_type": "execute_result"
    },
    {
     "data": {
      "image/png": "[encoded data removed]",
      "text/plain": [
       "<Figure size 432x288 with 1 Axes>"
      ]
     },
     "metadata": {
      "needs_background": "light"
     },
     "output_type": "display_data"
    }
   ],
   "source": [
    "sns.scatterplot(train['YearBuilt'], train['SalePrice'])"
   ]
  },
  {
   "cell_type": "code",
   "execution_count": 495,
   "metadata": {},
   "outputs": [
    {
     "data": {
      "text/plain": [
       "<matplotlib.axes._subplots.AxesSubplot at 0x1a2bcd5828>"
      ]
     },
     "execution_count": 495,
     "metadata": {},
     "output_type": "execute_result"
    },
    {
     "data": {
      "image/png": "[encoded data removed]",
      "text/plain": [
       "<Figure size 432x288 with 1 Axes>"
      ]
     },
     "metadata": {
      "needs_background": "light"
     },
     "output_type": "display_data"
    }
   ],
   "source": [
    "sns.scatterplot(train['GrLivArea'], train['SalePrice'])"
   ]
  },
  {
   "cell_type": "code",
   "execution_count": 496,
   "metadata": {},
   "outputs": [],
   "source": [
    "# We found that there is one outliers with really large GrLivArea but really little SalePrice\n",
    "# We need to remove that outliers\n",
    "train = train[~((train['GrLivArea']>4000) & (train['SalePrice']<250000))]"
   ]
  },
  {
   "cell_type": "code",
   "execution_count": 497,
   "metadata": {},
   "outputs": [
    {
     "data": {
      "text/plain": [
       "<matplotlib.axes._subplots.AxesSubplot at 0x1a2e452550>"
      ]
     },
     "execution_count": 497,
     "metadata": {},
     "output_type": "execute_result"
    },
    {
     "data": {
      "image/png": "[encoded data removed]",
      "text/plain": [
       "<Figure size 432x288 with 1 Axes>"
      ]
     },
     "metadata": {
      "needs_background": "light"
     },
     "output_type": "display_data"
    }
   ],
   "source": [
    "sns.scatterplot(train['GrLivArea'], train['SalePrice'])"
   ]
  },
  {
   "cell_type": "code",
   "execution_count": 498,
   "metadata": {},
   "outputs": [
    {
     "data": {
      "text/plain": [
       "<matplotlib.axes._subplots.AxesSubplot at 0x1a2e4f21d0>"
      ]
     },
     "execution_count": 498,
     "metadata": {},
     "output_type": "execute_result"
    },
    {
     "data": {
      "image/png": "[encoded data removed]",
      "text/plain": [
       "<Figure size 432x288 with 1 Axes>"
      ]
     },
     "metadata": {
      "needs_background": "light"
     },
     "output_type": "display_data"
    }
   ],
   "source": [
    "sns.scatterplot(train['FullBath']+train['HalfBath'], train['SalePrice'])"
   ]
  },
  {
   "cell_type": "code",
   "execution_count": 499,
   "metadata": {},
   "outputs": [
    {
     "data": {
      "text/html": [
       "<div>\n",
       "<style scoped>\n",
       "    .dataframe tbody tr th:only-of-type {\n",
       "        vertical-align: middle;\n",
       "    }\n",
       "\n",
       "    .dataframe tbody tr th {\n",
       "        vertical-align: top;\n",
       "    }\n",
       "\n",
       "    .dataframe thead th {\n",
       "        text-align: right;\n",
       "    }\n",
       "</style>\n",
       "<table border=\"1\" class=\"dataframe\">\n",
       "  <thead>\n",
       "    <tr style=\"text-align: right;\">\n",
       "      <th></th>\n",
       "      <th>LotFrontage</th>\n",
       "      <th>LotArea</th>\n",
       "      <th>MasVnrArea</th>\n",
       "      <th>BsmtFinSF1</th>\n",
       "      <th>BsmtFinSF2</th>\n",
       "      <th>BsmtUnfSF</th>\n",
       "      <th>TotalBsmtSF</th>\n",
       "      <th>1stFlrSF</th>\n",
       "      <th>2ndFlrSF</th>\n",
       "      <th>LowQualFinSF</th>\n",
       "      <th>...</th>\n",
       "      <th>GarageCars</th>\n",
       "      <th>GarageArea</th>\n",
       "      <th>WoodDeckSF</th>\n",
       "      <th>OpenPorchSF</th>\n",
       "      <th>EnclosedPorch</th>\n",
       "      <th>3SsnPorch</th>\n",
       "      <th>ScreenPorch</th>\n",
       "      <th>PoolArea</th>\n",
       "      <th>MiscVal</th>\n",
       "      <th>SalePrice</th>\n",
       "    </tr>\n",
       "  </thead>\n",
       "  <tbody>\n",
       "    <tr>\n",
       "      <th>count</th>\n",
       "      <td>1457.000000</td>\n",
       "      <td>1457.000000</td>\n",
       "      <td>1457.000000</td>\n",
       "      <td>1457.000000</td>\n",
       "      <td>1457.000000</td>\n",
       "      <td>1457.000000</td>\n",
       "      <td>1457.000000</td>\n",
       "      <td>1457.000000</td>\n",
       "      <td>1457.000000</td>\n",
       "      <td>1457.000000</td>\n",
       "      <td>...</td>\n",
       "      <td>1457.000000</td>\n",
       "      <td>1457.000000</td>\n",
       "      <td>1457.000000</td>\n",
       "      <td>1457.000000</td>\n",
       "      <td>1457.000000</td>\n",
       "      <td>1457.000000</td>\n",
       "      <td>1457.000000</td>\n",
       "      <td>1457.000000</td>\n",
       "      <td>1457.000000</td>\n",
       "      <td>1457.000000</td>\n",
       "    </tr>\n",
       "    <tr>\n",
       "      <th>mean</th>\n",
       "      <td>70.901853</td>\n",
       "      <td>10448.138641</td>\n",
       "      <td>102.260124</td>\n",
       "      <td>438.836651</td>\n",
       "      <td>46.645161</td>\n",
       "      <td>567.376115</td>\n",
       "      <td>1052.857927</td>\n",
       "      <td>1158.226493</td>\n",
       "      <td>345.999314</td>\n",
       "      <td>5.856555</td>\n",
       "      <td>...</td>\n",
       "      <td>1.765957</td>\n",
       "      <td>472.027454</td>\n",
       "      <td>94.148936</td>\n",
       "      <td>46.277282</td>\n",
       "      <td>21.999314</td>\n",
       "      <td>3.416609</td>\n",
       "      <td>15.091970</td>\n",
       "      <td>2.435141</td>\n",
       "      <td>43.578586</td>\n",
       "      <td>180891.006177</td>\n",
       "    </tr>\n",
       "    <tr>\n",
       "      <th>std</th>\n",
       "      <td>22.666718</td>\n",
       "      <td>9852.281853</td>\n",
       "      <td>179.151331</td>\n",
       "      <td>433.117601</td>\n",
       "      <td>161.471529</td>\n",
       "      <td>442.110179</td>\n",
       "      <td>414.943813</td>\n",
       "      <td>371.401570</td>\n",
       "      <td>435.479096</td>\n",
       "      <td>48.672424</td>\n",
       "      <td>...</td>\n",
       "      <td>0.747336</td>\n",
       "      <td>212.310363</td>\n",
       "      <td>125.368798</td>\n",
       "      <td>65.324107</td>\n",
       "      <td>61.173949</td>\n",
       "      <td>29.347109</td>\n",
       "      <td>55.810633</td>\n",
       "      <td>38.223013</td>\n",
       "      <td>496.629946</td>\n",
       "      <td>79506.233040</td>\n",
       "    </tr>\n",
       "    <tr>\n",
       "      <th>min</th>\n",
       "      <td>21.000000</td>\n",
       "      <td>1300.000000</td>\n",
       "      <td>0.000000</td>\n",
       "      <td>0.000000</td>\n",
       "      <td>0.000000</td>\n",
       "      <td>0.000000</td>\n",
       "      <td>0.000000</td>\n",
       "      <td>334.000000</td>\n",
       "      <td>0.000000</td>\n",
       "      <td>0.000000</td>\n",
       "      <td>...</td>\n",
       "      <td>0.000000</td>\n",
       "      <td>0.000000</td>\n",
       "      <td>0.000000</td>\n",
       "      <td>0.000000</td>\n",
       "      <td>0.000000</td>\n",
       "      <td>0.000000</td>\n",
       "      <td>0.000000</td>\n",
       "      <td>0.000000</td>\n",
       "      <td>0.000000</td>\n",
       "      <td>34900.000000</td>\n",
       "    </tr>\n",
       "    <tr>\n",
       "      <th>25%</th>\n",
       "      <td>60.000000</td>\n",
       "      <td>7540.000000</td>\n",
       "      <td>0.000000</td>\n",
       "      <td>0.000000</td>\n",
       "      <td>0.000000</td>\n",
       "      <td>223.000000</td>\n",
       "      <td>796.000000</td>\n",
       "      <td>882.000000</td>\n",
       "      <td>0.000000</td>\n",
       "      <td>0.000000</td>\n",
       "      <td>...</td>\n",
       "      <td>1.000000</td>\n",
       "      <td>330.000000</td>\n",
       "      <td>0.000000</td>\n",
       "      <td>0.000000</td>\n",
       "      <td>0.000000</td>\n",
       "      <td>0.000000</td>\n",
       "      <td>0.000000</td>\n",
       "      <td>0.000000</td>\n",
       "      <td>0.000000</td>\n",
       "      <td>129900.000000</td>\n",
       "    </tr>\n",
       "    <tr>\n",
       "      <th>50%</th>\n",
       "      <td>70.000000</td>\n",
       "      <td>9473.000000</td>\n",
       "      <td>0.000000</td>\n",
       "      <td>381.000000</td>\n",
       "      <td>0.000000</td>\n",
       "      <td>479.000000</td>\n",
       "      <td>991.000000</td>\n",
       "      <td>1086.000000</td>\n",
       "      <td>0.000000</td>\n",
       "      <td>0.000000</td>\n",
       "      <td>...</td>\n",
       "      <td>2.000000</td>\n",
       "      <td>479.000000</td>\n",
       "      <td>0.000000</td>\n",
       "      <td>25.000000</td>\n",
       "      <td>0.000000</td>\n",
       "      <td>0.000000</td>\n",
       "      <td>0.000000</td>\n",
       "      <td>0.000000</td>\n",
       "      <td>0.000000</td>\n",
       "      <td>163000.000000</td>\n",
       "    </tr>\n",
       "    <tr>\n",
       "      <th>75%</th>\n",
       "      <td>82.000000</td>\n",
       "      <td>11600.000000</td>\n",
       "      <td>164.000000</td>\n",
       "      <td>712.000000</td>\n",
       "      <td>0.000000</td>\n",
       "      <td>808.000000</td>\n",
       "      <td>1297.000000</td>\n",
       "      <td>1390.000000</td>\n",
       "      <td>728.000000</td>\n",
       "      <td>0.000000</td>\n",
       "      <td>...</td>\n",
       "      <td>2.000000</td>\n",
       "      <td>576.000000</td>\n",
       "      <td>168.000000</td>\n",
       "      <td>68.000000</td>\n",
       "      <td>0.000000</td>\n",
       "      <td>0.000000</td>\n",
       "      <td>0.000000</td>\n",
       "      <td>0.000000</td>\n",
       "      <td>0.000000</td>\n",
       "      <td>214000.000000</td>\n",
       "    </tr>\n",
       "    <tr>\n",
       "      <th>max</th>\n",
       "      <td>182.000000</td>\n",
       "      <td>215245.000000</td>\n",
       "      <td>1600.000000</td>\n",
       "      <td>2188.000000</td>\n",
       "      <td>1474.000000</td>\n",
       "      <td>2336.000000</td>\n",
       "      <td>3206.000000</td>\n",
       "      <td>3228.000000</td>\n",
       "      <td>2065.000000</td>\n",
       "      <td>572.000000</td>\n",
       "      <td>...</td>\n",
       "      <td>4.000000</td>\n",
       "      <td>1390.000000</td>\n",
       "      <td>857.000000</td>\n",
       "      <td>547.000000</td>\n",
       "      <td>552.000000</td>\n",
       "      <td>508.000000</td>\n",
       "      <td>480.000000</td>\n",
       "      <td>738.000000</td>\n",
       "      <td>15500.000000</td>\n",
       "      <td>755000.000000</td>\n",
       "    </tr>\n",
       "  </tbody>\n",
       "</table>\n",
       "<p>8 rows × 29 columns</p>\n",
       "</div>"
      ],
      "text/plain": [
       "       LotFrontage        LotArea   MasVnrArea   BsmtFinSF1   BsmtFinSF2  \\\n",
       "count  1457.000000    1457.000000  1457.000000  1457.000000  1457.000000   \n",
       "mean     70.901853   10448.138641   102.260124   438.836651    46.645161   \n",
       "std      22.666718    9852.281853   179.151331   433.117601   161.471529   \n",
       "min      21.000000    1300.000000     0.000000     0.000000     0.000000   \n",
       "25%      60.000000    7540.000000     0.000000     0.000000     0.000000   \n",
       "50%      70.000000    9473.000000     0.000000   381.000000     0.000000   \n",
       "75%      82.000000   11600.000000   164.000000   712.000000     0.000000   \n",
       "max     182.000000  215245.000000  1600.000000  2188.000000  1474.000000   \n",
       "\n",
       "         BsmtUnfSF  TotalBsmtSF     1stFlrSF     2ndFlrSF  LowQualFinSF  ...  \\\n",
       "count  1457.000000  1457.000000  1457.000000  1457.000000   1457.000000  ...   \n",
       "mean    567.376115  1052.857927  1158.226493   345.999314      5.856555  ...   \n",
       "std     442.110179   414.943813   371.401570   435.479096     48.672424  ...   \n",
       "min       0.000000     0.000000   334.000000     0.000000      0.000000  ...   \n",
       "25%     223.000000   796.000000   882.000000     0.000000      0.000000  ...   \n",
       "50%     479.000000   991.000000  1086.000000     0.000000      0.000000  ...   \n",
       "75%     808.000000  1297.000000  1390.000000   728.000000      0.000000  ...   \n",
       "max    2336.000000  3206.000000  3228.000000  2065.000000    572.000000  ...   \n",
       "\n",
       "        GarageCars   GarageArea   WoodDeckSF  OpenPorchSF  EnclosedPorch  \\\n",
       "count  1457.000000  1457.000000  1457.000000  1457.000000    1457.000000   \n",
       "mean      1.765957   472.027454    94.148936    46.277282      21.999314   \n",
       "std       0.747336   212.310363   125.368798    65.324107      61.173949   \n",
       "min       0.000000     0.000000     0.000000     0.000000       0.000000   \n",
       "25%       1.000000   330.000000     0.000000     0.000000       0.000000   \n",
       "50%       2.000000   479.000000     0.000000    25.000000       0.000000   \n",
       "75%       2.000000   576.000000   168.000000    68.000000       0.000000   \n",
       "max       4.000000  1390.000000   857.000000   547.000000     552.000000   \n",
       "\n",
       "         3SsnPorch  ScreenPorch     PoolArea       MiscVal      SalePrice  \n",
       "count  1457.000000  1457.000000  1457.000000   1457.000000    1457.000000  \n",
       "mean      3.416609    15.091970     2.435141     43.578586  180891.006177  \n",
       "std      29.347109    55.810633    38.223013    496.629946   79506.233040  \n",
       "min       0.000000     0.000000     0.000000      0.000000   34900.000000  \n",
       "25%       0.000000     0.000000     0.000000      0.000000  129900.000000  \n",
       "50%       0.000000     0.000000     0.000000      0.000000  163000.000000  \n",
       "75%       0.000000     0.000000     0.000000      0.000000  214000.000000  \n",
       "max     508.000000   480.000000   738.000000  15500.000000  755000.000000  \n",
       "\n",
       "[8 rows x 29 columns]"
      ]
     },
     "execution_count": 499,
     "metadata": {},
     "output_type": "execute_result"
    }
   ],
   "source": [
    "train[num_col].describe()"
   ]
  },
  {
   "cell_type": "markdown",
   "metadata": {},
   "source": [
    "#### Conclusion\n",
    "- ranges are very different so if using regression, we need to standardize the feature."
   ]
  },
  {
   "cell_type": "code",
   "execution_count": 500,
   "metadata": {},
   "outputs": [
    {
     "data": {
      "text/plain": [
       "<matplotlib.axes._subplots.AxesSubplot at 0x1a2b996828>"
      ]
     },
     "execution_count": 500,
     "metadata": {},
     "output_type": "execute_result"
    },
    {
     "data": {
      "image/png": "[encoded data removed]",
      "text/plain": [
       "<Figure size 792x648 with 2 Axes>"
      ]
     },
     "metadata": {
      "needs_background": "light"
     },
     "output_type": "display_data"
    }
   ],
   "source": [
    "# Get correlation plot\n",
    "correlation_matrix = train[num_col].corr()\n",
    "\n",
    "mask = np.triu(np.ones_like(correlation_matrix, dtype=np.bool))\n",
    "\n",
    "cmap = sns.diverging_palette(220, 10, as_cmap=True)\n",
    "\n",
    "f, ax = plt.subplots(figsize=(11, 9))\n",
    "\n",
    "sns.heatmap(correlation_matrix, mask=mask, cmap=cmap, vmax=.3, center=0,\n",
    "            square=True, linewidths=.5, cbar_kws={\"shrink\": .5})"
   ]
  },
  {
   "cell_type": "markdown",
   "metadata": {},
   "source": [
    "- many high correlated features, if using regression, we need to pay attention to this.\n",
    "- BsmtunfSF has high negative correlation with BsmfFinSF1,BsmtFullBath\n",
    "- Enclosed Porch has negative correlation with YearBuild\n",
    "- All areas related features are high correlated with each other\n",
    "- SalePrice has high correlation with more than 20 variables"
   ]
  },
  {
   "cell_type": "markdown",
   "metadata": {},
   "source": [
    "## Feature Engineer\n",
    "### Variable Transformation"
   ]
  },
  {
   "cell_type": "code",
   "execution_count": 501,
   "metadata": {},
   "outputs": [
    {
     "data": {
      "text/plain": [
       "<matplotlib.axes._subplots.AxesSubplot at 0x1a2b981240>"
      ]
     },
     "execution_count": 501,
     "metadata": {},
     "output_type": "execute_result"
    },
    {
     "data": {
      "image/png": "[encoded data removed]",
      "text/plain": [
       "<Figure size 432x288 with 1 Axes>"
      ]
     },
     "metadata": {
      "needs_background": "light"
     },
     "output_type": "display_data"
    }
   ],
   "source": [
    "# check the distribution of Sale Price\n",
    "sns.distplot(train['SalePrice'])"
   ]
  },
  {
   "cell_type": "code",
   "execution_count": 502,
   "metadata": {},
   "outputs": [],
   "source": [
    "# For regression model to work, we need transform target variables.\n",
    "# Also, this competition evaluate on log of target variables\n",
    "train['log_SalePrice'] = np.log1p(train['SalePrice'])"
   ]
  },
  {
   "cell_type": "code",
   "execution_count": 503,
   "metadata": {},
   "outputs": [
    {
     "data": {
      "text/plain": [
       "<matplotlib.axes._subplots.AxesSubplot at 0x1a2bd3e940>"
      ]
     },
     "execution_count": 503,
     "metadata": {},
     "output_type": "execute_result"
    },
    {
     "data": {
      "image/png": "[encoded data removed]",
      "text/plain": [
       "<Figure size 432x288 with 1 Axes>"
      ]
     },
     "metadata": {
      "needs_background": "light"
     },
     "output_type": "display_data"
    }
   ],
   "source": [
    "sns.distplot(train['log_SalePrice'])"
   ]
  },
  {
   "cell_type": "code",
   "execution_count": 504,
   "metadata": {},
   "outputs": [
    {
     "data": {
      "text/plain": [
       "GarageCars       -0.341670\n",
       "FullBath          0.032573\n",
       "GarageArea        0.132024\n",
       "BedroomAbvGr      0.213695\n",
       "TotalBsmtSF       0.510858\n",
       "BsmtFullBath      0.592257\n",
       "Fireplaces        0.633178\n",
       "TotRmsAbvGrd      0.662553\n",
       "HalfBath          0.678958\n",
       "LotFrontage       0.738126\n",
       "BsmtFinSF1        0.764463\n",
       "2ndFlrSF          0.811915\n",
       "1stFlrSF          0.887763\n",
       "BsmtUnfSF         0.920031\n",
       "GrLivArea         1.013259\n",
       "WoodDeckSF        1.544917\n",
       "SalePrice         1.883068\n",
       "OpenPorchSF       2.339021\n",
       "MasVnrArea        2.695262\n",
       "EnclosedPorch     3.085809\n",
       "BsmtHalfBath      4.098469\n",
       "ScreenPorch       4.117285\n",
       "BsmtFinSF2        4.250256\n",
       "KitchenAbvGr      4.483125\n",
       "LowQualFinSF      9.001760\n",
       "3SsnPorch        10.293487\n",
       "LotArea          12.609035\n",
       "PoolArea         15.943422\n",
       "MiscVal          24.451726\n",
       "dtype: float64"
      ]
     },
     "execution_count": 504,
     "metadata": {},
     "output_type": "execute_result"
    }
   ],
   "source": [
    "train[num_col].skew(axis=0, skipna=True).sort_values()"
   ]
  },
  {
   "cell_type": "code",
   "execution_count": 505,
   "metadata": {},
   "outputs": [],
   "source": [
    "train['Total SF'] = train['TotalBsmtSF'] + train['1stFlrSF'] + train['2ndFlrSF']\n",
    "\n",
    "train['House Age'] = train['YrSold'] - train['YearBuilt']"
   ]
  },
  {
   "cell_type": "code",
   "execution_count": 506,
   "metadata": {},
   "outputs": [],
   "source": [
    "test['Total SF'] = test['TotalBsmtSF'] + test['1stFlrSF'] + test['2ndFlrSF']\n",
    "\n",
    "test['House Age'] = test['YrSold'] - test['YearBuilt']"
   ]
  },
  {
   "cell_type": "code",
   "execution_count": 507,
   "metadata": {
    "scrolled": true
   },
   "outputs": [],
   "source": [
    "# Log transform to remove skewness\n",
    "for col in num_col:\n",
    "    if abs(train[col].skew(skipna=True)) > 0.75 and col != 'SalePrice':\n",
    "        train[col] = np.log1p(train[col])"
   ]
  },
  {
   "cell_type": "code",
   "execution_count": 508,
   "metadata": {},
   "outputs": [],
   "source": [
    "# Test transformation\n",
    "for col in num_col:\n",
    "    if col != 'SalePrice':\n",
    "        if abs(test[col].skew(skipna=True)) > 0.75:\n",
    "            test[col] = np.log1p(test[col])"
   ]
  },
  {
   "cell_type": "code",
   "execution_count": 509,
   "metadata": {},
   "outputs": [
    {
     "data": {
      "text/plain": [
       "BsmtUnfSF        -2.184438\n",
       "BsmtFinSF1       -0.617019\n",
       "GarageCars       -0.341670\n",
       "LotArea          -0.184741\n",
       "GrLivArea        -0.069734\n",
       "OpenPorchSF      -0.024272\n",
       "1stFlrSF          0.005616\n",
       "FullBath          0.032573\n",
       "GarageArea        0.132024\n",
       "WoodDeckSF        0.155236\n",
       "BedroomAbvGr      0.213695\n",
       "2ndFlrSF          0.291571\n",
       "MasVnrArea        0.505176\n",
       "TotalBsmtSF       0.510858\n",
       "BsmtFullBath      0.592257\n",
       "Fireplaces        0.633178\n",
       "TotRmsAbvGrd      0.662553\n",
       "HalfBath          0.678958\n",
       "LotFrontage       0.738126\n",
       "SalePrice         1.883068\n",
       "EnclosedPorch     2.108812\n",
       "BsmtFinSF2        2.519985\n",
       "ScreenPorch       3.146253\n",
       "KitchenAbvGr      3.864695\n",
       "BsmtHalfBath      3.928274\n",
       "MiscVal           5.164816\n",
       "LowQualFinSF      7.452254\n",
       "3SsnPorch         7.726645\n",
       "PoolArea         15.512308\n",
       "dtype: float64"
      ]
     },
     "execution_count": 509,
     "metadata": {},
     "output_type": "execute_result"
    }
   ],
   "source": [
    "train[num_col].skew(axis=0, skipna=True).sort_values()"
   ]
  },
  {
   "cell_type": "code",
   "execution_count": 510,
   "metadata": {},
   "outputs": [
    {
     "data": {
      "text/plain": [
       "Reg    925\n",
       "IR1    483\n",
       "IR2     40\n",
       "IR3      9\n",
       "Name: LotShape, dtype: int64"
      ]
     },
     "execution_count": 510,
     "metadata": {},
     "output_type": "execute_result"
    }
   ],
   "source": [
    "train['LotShape'].value_counts()"
   ]
  },
  {
   "cell_type": "code",
   "execution_count": 511,
   "metadata": {},
   "outputs": [],
   "source": [
    "def variable_transfer(data):\n",
    "    \n",
    "    temp_hold = data.copy()\n",
    "    # Change cat as num to cat\n",
    "    temp_hold['MSSubClass'] = temp_hold['MSSubClass'].astype('str')\n",
    "\n",
    "    # Some features can use number encoding to refect ordinal meaning\n",
    "    temp_hold['Street'] = temp_hold['Street'].replace({'Grvl': 0, 'Pave':1})\n",
    "\n",
    "    temp_hold['Alley'] = temp_hold['Alley'].replace({'None':0, 'Grvl': 1, 'Pave':2})\n",
    "    \n",
    "    temp_hold['LotShape'] = temp_hold['LotShape'].replace({'IR3':0, 'IR2':1, 'IR1': 2, 'Reg':3})\n",
    "    \n",
    "    temp_hold['LandContour'] = temp_hold['LandContour'].replace({'Low': 0, 'Lvl':1, 'Bnk':2, 'HLS':3})\n",
    "\n",
    "#     temp_hold['Utilities'] = temp_hold['Utilities'].replace({'ElO': 0, 'NoSeWa':1, 'NoSewr':2, 'AllPub':3})\n",
    "\n",
    "    temp_hold['LandSlope'] = temp_hold['LandSlope'].replace({'Gtl':0, 'Mod':1, 'Sev':2})\n",
    "\n",
    "    temp_hold['ExterCond'] = temp_hold['ExterCond'].replace({'Po':1,'Fa':2,'TA':3,'Gd':4,'Ex':5})\n",
    "    temp_hold['ExterQual'] = temp_hold['ExterQual'].replace({'Po':1,'Fa':2,'TA':3,'Gd':4,'Ex':5})\n",
    "\n",
    "    temp_hold['BsmtQual'] = temp_hold['BsmtQual'].replace({'None':0,'Po':1,'Fa':2,'TA':3,'Gd':4,'Ex':5})\n",
    "    temp_hold['BsmtCond'] = temp_hold['BsmtCond'].replace({'None':0,'Po':1,'Fa':2,'TA':3,'Gd':4,'Ex':5})\n",
    "\n",
    "    temp_hold['GarageQual'] = temp_hold['GarageQual'].replace({'None':0,'Po':1,'Fa':2,'TA':3,'Gd':4,'Ex':5})\n",
    "    temp_hold['GarageCond'] = temp_hold['GarageCond'].replace({'None':0,'Po':1,'Fa':2,'TA':3,'Gd':4,'Ex':5})\n",
    "\n",
    "    temp_hold['BsmtExposure'] = temp_hold['BsmtExposure'].replace({'None':0, 'No':1, 'Mn':2, 'Av':3,'Gd':4})\n",
    "\n",
    "    temp_hold['BsmtFinType1'] = temp_hold['BsmtFinType1'].replace({'None':0, 'Unf':1, 'LwQ':2, 'Rec':3, 'BLQ':4, 'ALQ':5, 'GLQ':6})\n",
    "    temp_hold['BsmtFinType2'] = temp_hold['BsmtFinType2'].replace({'None':0, 'Unf':1, 'LwQ':2, 'Rec':3, 'BLQ':4, 'ALQ':5, 'GLQ':6})\n",
    "\n",
    "    temp_hold['HeatingQC'] = temp_hold['HeatingQC'].replace({'Po':1,'Fa':2,'TA':3,'Gd':4,'Ex':5})\n",
    "    temp_hold['CentralAir'] = temp_hold['CentralAir'].replace({'N':0, 'Y':1})\n",
    "\n",
    "    temp_hold['KitchenQual'] = temp_hold['KitchenQual'].replace({'Po':1,'Fa':2,'TA':3,'Gd':4,'Ex':5})\n",
    "    temp_hold['FireplaceQu'] = temp_hold['FireplaceQu'].replace({'None':0,'Po':1,'Fa':2,'TA':3,'Gd':4,'Ex':5})\n",
    "\n",
    "    temp_hold['Functional'] = temp_hold['Functional'].replace({'Sal':0, 'Sev':1, 'Maj2':2, 'Maj1':3, 'Mod':4, 'Min2':5,\n",
    "                                                       'Min1':6, 'Typ': 7})\n",
    "\n",
    "    temp_hold['GarageFinish'] = temp_hold['GarageFinish'].replace({'None':0,'Unf':1,'RFn':2,'Fin':3})\n",
    "\n",
    "    temp_hold['PavedDrive'] = temp_hold['PavedDrive'].replace({'N':1, 'P':2, 'Y':3})\n",
    "\n",
    "    temp_hold['PoolQC'] = temp_hold['PoolQC'].replace({'None':0,'Po':1,'Fa':2,'TA':3,'Gd':4,'Ex':5})\n",
    "    temp_hold['Fence'] = temp_hold['Fence'].replace({'None':0, 'MnWw':1, 'GdWo':2, 'MnPrv':3, 'GdPrv':4})\n",
    "    \n",
    "    return temp_hold\n",
    "    "
   ]
  },
  {
   "cell_type": "code",
   "execution_count": 512,
   "metadata": {},
   "outputs": [],
   "source": [
    "train = train.drop(['Id', 'SalePrice'], axis=1).copy()"
   ]
  },
  {
   "cell_type": "code",
   "execution_count": 513,
   "metadata": {},
   "outputs": [],
   "source": [
    "################################## Save data here to save time future ############################\n",
    "train.to_csv(file_path+\"transfer_ready_train.csv\", index=False)\n",
    "test.to_csv(file_path+\"transfer_ready_test.csv\", index=False)"
   ]
  },
  {
   "cell_type": "code",
   "execution_count": 516,
   "metadata": {},
   "outputs": [],
   "source": [
    "lb_train = variable_transfer(train)\n",
    "lb_test = variable_transfer(test)"
   ]
  },
  {
   "cell_type": "code",
   "execution_count": 517,
   "metadata": {},
   "outputs": [],
   "source": [
    "ready_train = pd.get_dummies(lb_train)\n",
    "X = ready_train.drop('log_SalePrice', axis=1)\n",
    "y = ready_train['log_SalePrice']"
   ]
  },
  {
   "cell_type": "code",
   "execution_count": 518,
   "metadata": {},
   "outputs": [],
   "source": [
    "# Onehot transfer test\n",
    "onehot_test = pd.get_dummies(lb_test)"
   ]
  },
  {
   "cell_type": "code",
   "execution_count": 519,
   "metadata": {},
   "outputs": [],
   "source": [
    "# Set missing onehot features to 0\n",
    "miss_col = set(X.columns)-set(onehot_test.columns)\n",
    "\n",
    "for c in miss_col:\n",
    "    onehot_test[c] = 0\n",
    "\n",
    "# There is no better way to handle unseen categories in test data. \n",
    "# I will just create this column and leave it as 0 for now\n",
    "# Set missing onehot features to 0\n",
    "miss_col = set(onehot_test.columns)-set(X.columns)\n",
    "\n",
    "for c in miss_col:\n",
    "    if c != 'Id':\n",
    "        X[c] = 0"
   ]
  },
  {
   "cell_type": "markdown",
   "metadata": {},
   "source": [
    "## Model"
   ]
  },
  {
   "cell_type": "code",
   "execution_count": 228,
   "metadata": {},
   "outputs": [],
   "source": [
    "from sklearn.pipeline import make_pipeline\n",
    "from sklearn.model_selection import KFold\n",
    "from sklearn.ensemble import GradientBoostingRegressor\n",
    "from sklearn.linear_model import Ridge, ElasticNet\n",
    "from sklearn.model_selection import RandomizedSearchCV, GridSearchCV, KFold\n",
    "\n",
    "import xgboost as xgb\n",
    "import lightgbm as lgb\n",
    "import warnings\n",
    "\n",
    "warnings.filterwarnings('ignore')"
   ]
  },
  {
   "cell_type": "code",
   "execution_count": 229,
   "metadata": {},
   "outputs": [],
   "source": [
    "def check_performance(model, X, y):\n",
    "    kf = KFold(5, shuffle=True, random_state=100).get_n_splits(X.values)\n",
    "    # return average log rmse performance\n",
    "    r = np.sqrt(-cross_val_score(model, X, y, scoring=\"neg_mean_squared_error\", cv=kf))\n",
    "    return r.mean(), r.std()"
   ]
  },
  {
   "cell_type": "code",
   "execution_count": 284,
   "metadata": {},
   "outputs": [],
   "source": [
    "def tune_performance(model, X, y, param_dist, n_iter = 40):\n",
    "    grid = RandomizedSearchCV(model, param_distributions=param_dist, \n",
    "                              scoring='neg_mean_squared_error', cv=3,\n",
    "                              n_iter = n_iter, refit=True)\n",
    "    grid.fit(X, y)\n",
    "    return np.sqrt(-grid.best_score_), grid.best_estimator_"
   ]
  },
  {
   "cell_type": "code",
   "execution_count": 376,
   "metadata": {},
   "outputs": [],
   "source": [
    "one_hot_average = []"
   ]
  },
  {
   "cell_type": "markdown",
   "metadata": {},
   "source": [
    "#### Ridge One Hot"
   ]
  },
  {
   "cell_type": "code",
   "execution_count": 521,
   "metadata": {},
   "outputs": [],
   "source": [
    "rid_param_dist = {'ridge__alpha': np.concatenate([np.linspace(0,1,100), np.array([20, 30, 40])])}"
   ]
  },
  {
   "cell_type": "code",
   "execution_count": 522,
   "metadata": {},
   "outputs": [],
   "source": [
    "rid = make_pipeline(RobustScaler(), Ridge(random_state=100))"
   ]
  },
  {
   "cell_type": "code",
   "execution_count": 523,
   "metadata": {
    "scrolled": true
   },
   "outputs": [],
   "source": [
    "rid_r, rid_m = tune_performance(rid, X, y, param_dist=rid_param_dist)"
   ]
  },
  {
   "cell_type": "code",
   "execution_count": 524,
   "metadata": {},
   "outputs": [
    {
     "name": "stdout",
     "output_type": "stream",
     "text": [
      "Ridge with one hot result: 0.11407318296225329\n"
     ]
    }
   ],
   "source": [
    "print('Ridge with one hot result:', rid_r)"
   ]
  },
  {
   "cell_type": "code",
   "execution_count": 525,
   "metadata": {},
   "outputs": [
    {
     "name": "stdout",
     "output_type": "stream",
     "text": [
      "(0.11200702912219122, 0.003650117105708812)\n"
     ]
    }
   ],
   "source": [
    "rid_one_hot_r = check_performance(rid_m, X, y)\n",
    "print(rid_one_hot_r)"
   ]
  },
  {
   "cell_type": "code",
   "execution_count": 377,
   "metadata": {},
   "outputs": [],
   "source": [
    "one_hot_average.append(rid_one_hot_r[0])"
   ]
  },
  {
   "cell_type": "markdown",
   "metadata": {},
   "source": [
    "#### Elastic Net Onehot"
   ]
  },
  {
   "cell_type": "code",
   "execution_count": 357,
   "metadata": {},
   "outputs": [],
   "source": [
    "ela_param_dist = {'elasticnet__alpha': np.concatenate([np.linspace(0,1,100), np.array([20, 30, 40])]),\n",
    "                  'elasticnet__l1_ratio': np.linspace(0, 1, 10),\n",
    "                  'elasticnet__max_iter': [1000, 3000, 5000]}"
   ]
  },
  {
   "cell_type": "code",
   "execution_count": 358,
   "metadata": {},
   "outputs": [],
   "source": [
    "ela = make_pipeline(RobustScaler(), ElasticNet(random_state=100))"
   ]
  },
  {
   "cell_type": "code",
   "execution_count": 359,
   "metadata": {
    "scrolled": true
   },
   "outputs": [],
   "source": [
    "ela_r, ela_m = tune_performance(ela, X, y, ela_param_dist, n_iter=100)"
   ]
  },
  {
   "cell_type": "code",
   "execution_count": 360,
   "metadata": {},
   "outputs": [
    {
     "name": "stdout",
     "output_type": "stream",
     "text": [
      "Elastic Net wiht one hot: 0.11439926478919651\n"
     ]
    }
   ],
   "source": [
    "print('Elastic Net wiht one hot:', ela_r)"
   ]
  },
  {
   "cell_type": "code",
   "execution_count": 361,
   "metadata": {},
   "outputs": [
    {
     "name": "stdout",
     "output_type": "stream",
     "text": [
      "(0.1127824069173851, 0.0035789582539916638)\n"
     ]
    }
   ],
   "source": [
    "ela_one_hot_result=check_performance(ela_m, X, y)\n",
    "print(ela_one_hot_result)"
   ]
  },
  {
   "cell_type": "code",
   "execution_count": 378,
   "metadata": {},
   "outputs": [],
   "source": [
    "one_hot_average.append(ela_one_hot_result[0])"
   ]
  },
  {
   "cell_type": "markdown",
   "metadata": {},
   "source": [
    "#### XGBoost Onehot"
   ]
  },
  {
   "cell_type": "code",
   "execution_count": 250,
   "metadata": {},
   "outputs": [],
   "source": [
    "xgb_reg = xgb.XGBRegressor(random_state=100, eval_metric = 'rmse')"
   ]
  },
  {
   "cell_type": "code",
   "execution_count": 363,
   "metadata": {},
   "outputs": [],
   "source": [
    "xgb_param_dist = {'learning_rate': np.linspace(0,1,1000), \n",
    "             'max_depth': np.arange(2,30),\n",
    "             'subsample': np.linspace(0.5,1,10),\n",
    "             'colsample_bytree': np.linspace(0.3,1,20),\n",
    "             'n_estimators': np.arange(100, 5000, 500),\n",
    "             'reg_alpha': np.concatenate([np.linspace(0,1,100), np.array([20, 30, 40])]),\n",
    "             'reg_lambda': np.concatenate([np.linspace(0,1,100), np.array([20, 30, 40])]),\n",
    "             }"
   ]
  },
  {
   "cell_type": "code",
   "execution_count": 364,
   "metadata": {},
   "outputs": [],
   "source": [
    "xgb_r, xgb_model = tune_performance(xgb_reg, X, y, xgb_param_dist, n_iter=100)"
   ]
  },
  {
   "cell_type": "code",
   "execution_count": 365,
   "metadata": {},
   "outputs": [
    {
     "name": "stdout",
     "output_type": "stream",
     "text": [
      "XGBoost with one hot result 0.11849033877470286\n"
     ]
    }
   ],
   "source": [
    "print('XGBoost with one hot result', xgb_r)"
   ]
  },
  {
   "cell_type": "code",
   "execution_count": 366,
   "metadata": {},
   "outputs": [
    {
     "data": {
      "text/plain": [
       "(0.11499568595616587, 0.006876005985494753)"
      ]
     },
     "execution_count": 366,
     "metadata": {},
     "output_type": "execute_result"
    }
   ],
   "source": [
    "xgb_one_hot_result = check_performance(xgb_model, X, y)\n",
    "xgb_one_hot_result"
   ]
  },
  {
   "cell_type": "code",
   "execution_count": 379,
   "metadata": {},
   "outputs": [],
   "source": [
    "one_hot_average.append(xgb_one_hot_result[0])"
   ]
  },
  {
   "cell_type": "markdown",
   "metadata": {},
   "source": [
    "#### LightGBM Onehot"
   ]
  },
  {
   "cell_type": "code",
   "execution_count": 370,
   "metadata": {},
   "outputs": [],
   "source": [
    "lgb_reg = lgb.LGBMRegressor(objective='regression', random_state=100)"
   ]
  },
  {
   "cell_type": "code",
   "execution_count": 371,
   "metadata": {},
   "outputs": [],
   "source": [
    "lgb_param_dist = {\n",
    "    'learning_rate': np.linspace(0,1,1000),\n",
    "    'num_leaves': np.arange(1, 30, 2),\n",
    "    'n_estimators': np.arange(100, 1001, 50),\n",
    "    'num_iterations': np.arange(100, 1001, 100),\n",
    "    'max_bin': np.arange(10, 100, 5),\n",
    "    'bagging_fraction': np.linspace(0, 1, 10),\n",
    "    'bagging_freq': np.arange(0, 11),\n",
    "    'feature_fraction': np.linspace(0, 1, 10),\n",
    "    'min_data_in_leaf': np.arange(0, 11),\n",
    "    'min_sum_hessian_in_leaf': np.arange(0, 20, 2),\n",
    "}"
   ]
  },
  {
   "cell_type": "code",
   "execution_count": 372,
   "metadata": {},
   "outputs": [],
   "source": [
    "lgb_r, lgb_model = tune_performance(lgb_reg, X, y, lgb_param_dist, 100)"
   ]
  },
  {
   "cell_type": "code",
   "execution_count": 373,
   "metadata": {},
   "outputs": [
    {
     "data": {
      "text/plain": [
       "(0.1260305823209321, 0.004246586632137676)"
      ]
     },
     "execution_count": 373,
     "metadata": {},
     "output_type": "execute_result"
    }
   ],
   "source": [
    "lgb_one_hot_result = check_performance(lgb_reg, X, y)\n",
    "lgb_one_hot_result"
   ]
  },
  {
   "cell_type": "code",
   "execution_count": 380,
   "metadata": {},
   "outputs": [],
   "source": [
    "one_hot_average.append(lgb_one_hot_result[0])"
   ]
  },
  {
   "cell_type": "markdown",
   "metadata": {},
   "source": [
    "### Try Mean Label Encoding\n",
    "- A way to encode categorical features\n",
    "- Use cross validation way to handle overfitting caused by using targets to encode features\n",
    "- Souce of codes: https://www.kaggle.com/dustinthewind/making-sense-of-mean-encoding"
   ]
  },
  {
   "cell_type": "code",
   "execution_count": 262,
   "metadata": {},
   "outputs": [],
   "source": [
    "def impact_coding(data, feature, target, n_folds=20, n_inner_folds=10):\n",
    "    from sklearn.model_selection import StratifiedKFold\n",
    "    '''\n",
    "    ! Using oof_default_mean for encoding inner folds introduces leak.\n",
    "    \n",
    "    Source: https://www.kaggle.com/tnarik/likelihood-encoding-of-categorical-features\n",
    "    \n",
    "    Changelog:    \n",
    "    a) Replaced KFold with StratifiedFold due to class imbalance\n",
    "    b) Rewrote .apply() with .map() for readability\n",
    "    c) Removed redundant apply in the inner loop\n",
    "    d) Removed global average; use local mean to fill NaN values in out-of-fold set\n",
    "    '''\n",
    "    impact_coded = pd.Series()\n",
    "        \n",
    "    kf = KFold(n_splits=n_folds, shuffle=True) # KFold in the original\n",
    "    oof_mean_cv = pd.DataFrame()\n",
    "    split = 0\n",
    "    for infold, oof in kf.split(data[feature]):\n",
    "\n",
    "        kf_inner = KFold(n_splits=n_inner_folds, shuffle=True)\n",
    "        inner_split = 0\n",
    "        inner_oof_mean_cv = pd.DataFrame()\n",
    "        oof_default_inner_mean = data.iloc[infold][target].mean()\n",
    "        \n",
    "        for infold_inner, oof_inner in kf_inner.split(data.iloc[infold]):\n",
    "                    \n",
    "            # The mean to apply to the inner oof split (a 1/n_folds % based on the rest)\n",
    "            oof_mean = data.iloc[infold_inner].groupby(by=feature)[target].mean()\n",
    "            \n",
    "            # Also populate mapping (this has all group -> mean for all inner CV folds)\n",
    "            inner_oof_mean_cv = inner_oof_mean_cv.join(pd.DataFrame(oof_mean), rsuffix=inner_split, how='outer')\n",
    "            inner_oof_mean_cv.fillna(value=oof_default_inner_mean, inplace=True)\n",
    "            inner_split += 1\n",
    "\n",
    "        # compute mean for each value of categorical value across oof iterations\n",
    "        inner_oof_mean_cv_map = inner_oof_mean_cv.mean(axis=1)\n",
    "\n",
    "        # Also populate mapping\n",
    "        oof_mean_cv = oof_mean_cv.join(pd.DataFrame(inner_oof_mean_cv), rsuffix=split, how='outer')\n",
    "        oof_mean_cv.fillna(value=oof_default_inner_mean, inplace=True) # <- local mean as default\n",
    "        split += 1\n",
    "\n",
    "        feature_mean = data.loc[oof, feature].map(inner_oof_mean_cv_map).fillna(oof_default_inner_mean)\n",
    "        impact_coded = impact_coded.append(feature_mean)\n",
    "        \n",
    "        oof_default_mean = data[target].mean() # Gobal mean to use by default (you could further tune this)\n",
    "    return impact_coded, oof_mean_cv.mean(axis=1), oof_default_mean\n",
    "\n",
    "def encode_target_cv(data, target, categ_variables, impact_coder=impact_coding):\n",
    "    \"\"\"Apply original function for each <categ_variables> in  <data>\n",
    "    Reduced number of validation folds\n",
    "    \"\"\"\n",
    "    train_target = data.copy() \n",
    "    \n",
    "    code_map = dict()\n",
    "    default_map = dict()\n",
    "    for f in categ_variables:\n",
    "        train_target.loc[:, f], code_map[f], default_map[f] = impact_coder(train_target, f, target)\n",
    "        \n",
    "    return train_target, code_map, default_map"
   ]
  },
  {
   "cell_type": "code",
   "execution_count": 514,
   "metadata": {},
   "outputs": [],
   "source": [
    "train = train.reset_index(drop=True)\n",
    "\n",
    "label_encode_col = [c for c in train.columns if train[c].dtypes == 'object']\n",
    "\n",
    "ml_train ,b,c = encode_target_cv(train, 'log_SalePrice', label_encode_col)"
   ]
  },
  {
   "cell_type": "code",
   "execution_count": 515,
   "metadata": {},
   "outputs": [],
   "source": [
    "# Mean Target Encoding on Test Set\n",
    "# We need the stored mapping return from Mean Target Encoding\n",
    "ml_test = test.copy()\n",
    "for c in label_encode_col:\n",
    "    ml_test[c] = ml_test[c].map(b[c])"
   ]
  },
  {
   "cell_type": "code",
   "execution_count": 267,
   "metadata": {},
   "outputs": [],
   "source": [
    "#ml_test['MSSubClass']=ml_test['MSSubClass'].fillna(train['log_SalePrice'].mean())"
   ]
  },
  {
   "cell_type": "code",
   "execution_count": 389,
   "metadata": {},
   "outputs": [],
   "source": [
    "# Test new encoding methods performance\n",
    "X2 = ml_train.drop('log_SalePrice', axis=1)\n",
    "y2 = ml_train['log_SalePrice']"
   ]
  },
  {
   "cell_type": "code",
   "execution_count": 390,
   "metadata": {},
   "outputs": [],
   "source": [
    "mtl_average = []"
   ]
  },
  {
   "cell_type": "markdown",
   "metadata": {},
   "source": [
    "#### Ridge Mean Target Label"
   ]
  },
  {
   "cell_type": "code",
   "execution_count": 439,
   "metadata": {},
   "outputs": [],
   "source": [
    "a2, b2 = tune_performance(rid, X2, y2, rid_param_dist)"
   ]
  },
  {
   "cell_type": "code",
   "execution_count": 440,
   "metadata": {},
   "outputs": [
    {
     "name": "stdout",
     "output_type": "stream",
     "text": [
      "Ridge with mean label: 0.1164663261699136\n"
     ]
    }
   ],
   "source": [
    "print('Ridge with mean label:', a2)"
   ]
  },
  {
   "cell_type": "code",
   "execution_count": 441,
   "metadata": {},
   "outputs": [
    {
     "data": {
      "text/plain": [
       "(0.11582685435842528, 0.004500998585128507)"
      ]
     },
     "execution_count": 441,
     "metadata": {},
     "output_type": "execute_result"
    }
   ],
   "source": [
    "rid_mtl_average = check_performance(b2, X2, y2)\n",
    "rid_mtl_average"
   ]
  },
  {
   "cell_type": "code",
   "execution_count": 394,
   "metadata": {},
   "outputs": [],
   "source": [
    "mtl_average.append(rid_mtl_average[0])"
   ]
  },
  {
   "cell_type": "markdown",
   "metadata": {},
   "source": [
    "#### Elastic Net Mean Target Label"
   ]
  },
  {
   "cell_type": "code",
   "execution_count": 397,
   "metadata": {
    "scrolled": true
   },
   "outputs": [],
   "source": [
    "ela_r1, ela_m1 = tune_performance(ela, X2, y2, ela_param_dist, n_iter=100)"
   ]
  },
  {
   "cell_type": "code",
   "execution_count": 398,
   "metadata": {},
   "outputs": [
    {
     "data": {
      "text/plain": [
       "0.1171971810518564"
      ]
     },
     "execution_count": 398,
     "metadata": {},
     "output_type": "execute_result"
    }
   ],
   "source": [
    "ela_r1"
   ]
  },
  {
   "cell_type": "code",
   "execution_count": 399,
   "metadata": {
    "scrolled": true
   },
   "outputs": [
    {
     "data": {
      "text/plain": [
       "(0.11679118590523636, 0.00475932092352051)"
      ]
     },
     "execution_count": 399,
     "metadata": {},
     "output_type": "execute_result"
    }
   ],
   "source": [
    "ela_mtl_average = check_performance(ela_m1, X2, y2)\n",
    "ela_mtl_average"
   ]
  },
  {
   "cell_type": "code",
   "execution_count": 400,
   "metadata": {},
   "outputs": [],
   "source": [
    "mtl_average.append(ela_mtl_average[0])"
   ]
  },
  {
   "cell_type": "markdown",
   "metadata": {},
   "source": [
    "#### XGBoost Mean Target Label"
   ]
  },
  {
   "cell_type": "code",
   "execution_count": 402,
   "metadata": {},
   "outputs": [],
   "source": [
    "xgb_r1, xgb_m1 = tune_performance(xgb_reg, X2, y2, xgb_param_dist, n_iter=100)"
   ]
  },
  {
   "cell_type": "code",
   "execution_count": 405,
   "metadata": {},
   "outputs": [
    {
     "data": {
      "text/plain": [
       "(0.11948983221885714, 0.005605467128220286)"
      ]
     },
     "execution_count": 405,
     "metadata": {},
     "output_type": "execute_result"
    }
   ],
   "source": [
    "xgb_mtl_average = check_performance(xgb_m1, X2, y2)\n",
    "\n",
    "xgb_mtl_average"
   ]
  },
  {
   "cell_type": "code",
   "execution_count": 406,
   "metadata": {},
   "outputs": [],
   "source": [
    "mtl_average.append(xgb_mtl_average[0])"
   ]
  },
  {
   "cell_type": "markdown",
   "metadata": {},
   "source": [
    "#### LightGBM Mean Target Label"
   ]
  },
  {
   "cell_type": "code",
   "execution_count": 408,
   "metadata": {},
   "outputs": [
    {
     "data": {
      "text/plain": [
       "(0.11803536309639122, 0.005688700941811632)"
      ]
     },
     "execution_count": 408,
     "metadata": {},
     "output_type": "execute_result"
    }
   ],
   "source": [
    "lgb_r1, lgb_model1 = tune_performance(lgb_reg, X2, y2, lgb_param_dist, 100)\n",
    "lgb_mtl_average = check_performance(lgb_model1, X2, y2)\n",
    "lgb_mtl_average"
   ]
  },
  {
   "cell_type": "code",
   "execution_count": 409,
   "metadata": {},
   "outputs": [],
   "source": [
    "mtl_average.append(lgb_mtl_average[0])"
   ]
  },
  {
   "cell_type": "code",
   "execution_count": 414,
   "metadata": {},
   "outputs": [
    {
     "data": {
      "text/html": [
       "<div>\n",
       "<style scoped>\n",
       "    .dataframe tbody tr th:only-of-type {\n",
       "        vertical-align: middle;\n",
       "    }\n",
       "\n",
       "    .dataframe tbody tr th {\n",
       "        vertical-align: top;\n",
       "    }\n",
       "\n",
       "    .dataframe thead th {\n",
       "        text-align: right;\n",
       "    }\n",
       "</style>\n",
       "<table border=\"1\" class=\"dataframe\">\n",
       "  <thead>\n",
       "    <tr style=\"text-align: right;\">\n",
       "      <th></th>\n",
       "      <th>One Hot</th>\n",
       "      <th>Mean Label</th>\n",
       "    </tr>\n",
       "  </thead>\n",
       "  <tbody>\n",
       "    <tr>\n",
       "      <th>Ridge</th>\n",
       "      <td>0.111618</td>\n",
       "      <td>0.115963</td>\n",
       "    </tr>\n",
       "    <tr>\n",
       "      <th>Elastic Net</th>\n",
       "      <td>0.112782</td>\n",
       "      <td>0.116791</td>\n",
       "    </tr>\n",
       "    <tr>\n",
       "      <th>XGBoost</th>\n",
       "      <td>0.114996</td>\n",
       "      <td>0.119490</td>\n",
       "    </tr>\n",
       "    <tr>\n",
       "      <th>LightGBM</th>\n",
       "      <td>0.126031</td>\n",
       "      <td>0.118035</td>\n",
       "    </tr>\n",
       "  </tbody>\n",
       "</table>\n",
       "</div>"
      ],
      "text/plain": [
       "              One Hot  Mean Label\n",
       "Ridge        0.111618    0.115963\n",
       "Elastic Net  0.112782    0.116791\n",
       "XGBoost      0.114996    0.119490\n",
       "LightGBM     0.126031    0.118035"
      ]
     },
     "execution_count": 414,
     "metadata": {},
     "output_type": "execute_result"
    }
   ],
   "source": [
    "pd.DataFrame(np.column_stack([one_hot_average, mtl_average]), columns=['One Hot', \"Mean Label\"], \n",
    "             index=['Ridge', 'Elastic Net', 'XGBoost', 'LightGBM'])"
   ]
  },
  {
   "cell_type": "markdown",
   "metadata": {},
   "source": [
    "#### Conclsion\n",
    "- mean target encoding doesn't improve model's performance (except LightGBM)\n",
    "- Even though it reduces number of features, it doesn't work on this case\n",
    "- may need to figure it out in the future\n",
    "\n",
    "### Try Combine one-hot encoding and mean label encoding"
   ]
  },
  {
   "cell_type": "code",
   "execution_count": 415,
   "metadata": {},
   "outputs": [],
   "source": [
    "X=X.reset_index(drop=True)"
   ]
  },
  {
   "cell_type": "code",
   "execution_count": 416,
   "metadata": {},
   "outputs": [],
   "source": [
    "combine_X = pd.concat([X, X2[label_encode_col].add_prefix('lb_')], axis=1)"
   ]
  },
  {
   "cell_type": "code",
   "execution_count": 417,
   "metadata": {},
   "outputs": [],
   "source": [
    "combine_test = pd.concat([onehot_test, ml_test[label_encode_col].add_prefix('lb_')], axis=1)"
   ]
  },
  {
   "cell_type": "code",
   "execution_count": 418,
   "metadata": {},
   "outputs": [],
   "source": [
    "a_combine, b_combine = tune_performance(rid, combine_X, y, rid_param_dist)"
   ]
  },
  {
   "cell_type": "code",
   "execution_count": 419,
   "metadata": {},
   "outputs": [
    {
     "name": "stdout",
     "output_type": "stream",
     "text": [
      "Ridge with both one-hot and mean label: 0.11905671143231568\n"
     ]
    }
   ],
   "source": [
    "print('Ridge with both one-hot and mean label:', a_combine)"
   ]
  },
  {
   "cell_type": "code",
   "execution_count": 420,
   "metadata": {},
   "outputs": [
    {
     "data": {
      "text/plain": [
       "(0.1186168844976894, 0.0075422407169941155)"
      ]
     },
     "execution_count": 420,
     "metadata": {},
     "output_type": "execute_result"
    }
   ],
   "source": [
    "# Check best tune params std\n",
    "check_performance(b_combine, combine_X, y)"
   ]
  },
  {
   "cell_type": "code",
   "execution_count": 422,
   "metadata": {},
   "outputs": [],
   "source": [
    "xgb_r2, xgb_m2 = tune_performance(xgb_reg, combine_X, y, xgb_param_dist, 100)"
   ]
  },
  {
   "cell_type": "code",
   "execution_count": 423,
   "metadata": {},
   "outputs": [
    {
     "name": "stdout",
     "output_type": "stream",
     "text": [
      "xgboost with both one-hot and mean label: 0.12315047573954328\n"
     ]
    }
   ],
   "source": [
    "print('xgboost with both one-hot and mean label:', xgb_r2)"
   ]
  },
  {
   "cell_type": "code",
   "execution_count": 424,
   "metadata": {},
   "outputs": [
    {
     "data": {
      "text/plain": [
       "(0.12282560943696108, 0.005760274244645561)"
      ]
     },
     "execution_count": 424,
     "metadata": {},
     "output_type": "execute_result"
    }
   ],
   "source": [
    "check_performance(xgb_m2, combine_X, y)"
   ]
  },
  {
   "cell_type": "markdown",
   "metadata": {},
   "source": [
    "#### Conclusion\n",
    "- Combine two features don't improve performance at all\n",
    "- Let us take another approach: mean target label encodes order matters features and one hot other metrics"
   ]
  },
  {
   "cell_type": "code",
   "execution_count": 426,
   "metadata": {},
   "outputs": [],
   "source": [
    "order_matter_cat = ['MSSubClass', 'Street', 'Alley', 'LotShape', 'LandContour', 'LandSlope', 'ExterCond',\n",
    "                   'ExterQual', 'BsmtQual', 'BsmtCond', 'GarageQual', 'GarageCond', 'BsmtExposure', 'BsmtFinType1',\n",
    "                   'BsmtFinType2', 'HeatingQC', 'CentralAir', 'KitchenQual', 'FireplaceQu', 'Functional', \n",
    "                    'GarageFinish', 'PavedDrive', 'PoolQC', 'Fence']"
   ]
  },
  {
   "cell_type": "code",
   "execution_count": 428,
   "metadata": {},
   "outputs": [],
   "source": [
    "# label_encode_col = [c for c in train.columns if train[c].dtypes == 'object']\n",
    "\n",
    "ml_part_train ,b,c = encode_target_cv(train, 'log_SalePrice', order_matter_cat)"
   ]
  },
  {
   "cell_type": "code",
   "execution_count": 432,
   "metadata": {},
   "outputs": [],
   "source": [
    "mix_train = pd.get_dummies(ml_part_train)"
   ]
  },
  {
   "cell_type": "code",
   "execution_count": 433,
   "metadata": {},
   "outputs": [],
   "source": [
    "X3 = mix_train.drop('log_SalePrice', axis=1)\n",
    "y3 = mix_train['log_SalePrice']"
   ]
  },
  {
   "cell_type": "markdown",
   "metadata": {},
   "source": [
    "#### Ridge Mix Model Performance"
   ]
  },
  {
   "cell_type": "code",
   "execution_count": 434,
   "metadata": {},
   "outputs": [],
   "source": [
    "a3, b3 = tune_performance(rid, X3, y3, rid_param_dist)"
   ]
  },
  {
   "cell_type": "code",
   "execution_count": 437,
   "metadata": {},
   "outputs": [
    {
     "data": {
      "text/plain": [
       "0.11692026232102626"
      ]
     },
     "execution_count": 437,
     "metadata": {},
     "output_type": "execute_result"
    }
   ],
   "source": [
    "a3"
   ]
  },
  {
   "cell_type": "code",
   "execution_count": 438,
   "metadata": {},
   "outputs": [
    {
     "data": {
      "text/plain": [
       "(0.11596315104774904, 0.004830071971501621)"
      ]
     },
     "execution_count": 438,
     "metadata": {},
     "output_type": "execute_result"
    }
   ],
   "source": [
    "rid_mix_average = check_performance(b3, X3, y3)\n",
    "rid_mtl_average"
   ]
  },
  {
   "cell_type": "markdown",
   "metadata": {},
   "source": [
    "#### XGBoost Mix Model Performance"
   ]
  },
  {
   "cell_type": "code",
   "execution_count": 442,
   "metadata": {},
   "outputs": [],
   "source": [
    "xgb_r3, xgb_m3 = tune_performance(xgb_reg, X3, y3, xgb_param_dist, 100)"
   ]
  },
  {
   "cell_type": "code",
   "execution_count": 443,
   "metadata": {},
   "outputs": [
    {
     "data": {
      "text/plain": [
       "0.12378807391296055"
      ]
     },
     "execution_count": 443,
     "metadata": {},
     "output_type": "execute_result"
    }
   ],
   "source": [
    "xgb_r3"
   ]
  },
  {
   "cell_type": "code",
   "execution_count": 444,
   "metadata": {},
   "outputs": [],
   "source": [
    "xgb_mix_average = check_performance(xgb_m3, X3, y3)"
   ]
  },
  {
   "cell_type": "code",
   "execution_count": 445,
   "metadata": {},
   "outputs": [
    {
     "data": {
      "text/plain": [
       "(0.11754301645497364, 0.006536655556176596)"
      ]
     },
     "execution_count": 445,
     "metadata": {},
     "output_type": "execute_result"
    }
   ],
   "source": [
    "xgb_mix_average"
   ]
  },
  {
   "cell_type": "markdown",
   "metadata": {},
   "source": [
    "#### Conclusion\n",
    "- performance is still worse than one-hot"
   ]
  },
  {
   "cell_type": "markdown",
   "metadata": {},
   "source": [
    "## Majority Vote Approach\n",
    "- Take average of all best models predictions, then evluate performance again."
   ]
  },
  {
   "cell_type": "code",
   "execution_count": 526,
   "metadata": {},
   "outputs": [],
   "source": [
    "ridge_pred = rid_m.predict(X)\n",
    "ela_pred = ela_m.predict(X)\n",
    "xgb_pred = xgb_model.predict(X)\n",
    "lgb_pred = lgb_model1.predict(X2)"
   ]
  },
  {
   "cell_type": "code",
   "execution_count": 527,
   "metadata": {},
   "outputs": [],
   "source": [
    "# Tage Average\n",
    "average_pred = np.mean(np.vstack((ridge_pred, ela_pred, xgb_pred, lgb_pred)), axis=0)"
   ]
  },
  {
   "cell_type": "code",
   "execution_count": 528,
   "metadata": {},
   "outputs": [
    {
     "name": "stdout",
     "output_type": "stream",
     "text": [
      "The RMSE of average on prediction is:  0.0752134044377449\n"
     ]
    }
   ],
   "source": [
    "print('The RMSE of average on prediction is: ', np.sqrt(np.mean((y-average_pred)**2)))"
   ]
  },
  {
   "cell_type": "markdown",
   "metadata": {},
   "source": [
    "#### Conclusion\n",
    "- The reason that the performance was boosted a lot is potentially because of models are trained on different datasets, so somehow create independcy among models."
   ]
  },
  {
   "cell_type": "code",
   "execution_count": 529,
   "metadata": {},
   "outputs": [],
   "source": [
    "onehot_test=onehot_test[X.columns].copy()"
   ]
  },
  {
   "cell_type": "code",
   "execution_count": 533,
   "metadata": {},
   "outputs": [],
   "source": [
    "# Let us take this approach on test dataset and then submit to Kaggle to see our performance\n",
    "test['rid_pred'] = rid_m.predict(onehot_test)\n",
    "test['ela_pred'] = ela_m.predict(onehot_test)\n",
    "test['xgb_pred'] = xgb_model.predict(onehot_test)\n",
    "test['lgb_pred'] = lgb_model1.predict(ml_test.drop('Id', axis=1))"
   ]
  },
  {
   "cell_type": "code",
   "execution_count": 535,
   "metadata": {},
   "outputs": [],
   "source": [
    "test['log_Pred'] = test[['rid_pred', 'ela_pred', 'lgb_pred', 'xgb_pred']].mean(axis=1)"
   ]
  },
  {
   "cell_type": "code",
   "execution_count": 538,
   "metadata": {},
   "outputs": [],
   "source": [
    "test['SalePrice'] = np.expm1(test['log_Pred'])\n",
    "\n",
    "test[['Id', 'SalePrice']].to_csv(file_path + \"submission.csv\", index=False)"
   ]
  },
  {
   "cell_type": "markdown",
   "metadata": {},
   "source": [
    "### Submission Result\n",
    "- Evaluate score is 0.1383. Performance Improved!\n",
    "- Next, let us try model stacking\n",
    "- Create 2 new models on one-hot dataset: Random Forest and Gradientboosting\n",
    "- Then use ridge, ElasticNet, Random Forest, and Gradientboosting for model Stack"
   ]
  },
  {
   "cell_type": "code",
   "execution_count": 547,
   "metadata": {},
   "outputs": [],
   "source": [
    "from sklearn.ensemble import RandomForestRegressor\n",
    "from sklearn.linear_model import Lasso\n",
    "\n",
    "from sklearn.base import BaseEstimator, TransformerMixin, RegressorMixin, clone"
   ]
  },
  {
   "cell_type": "code",
   "execution_count": 541,
   "metadata": {},
   "outputs": [
    {
     "name": "stdout",
     "output_type": "stream",
     "text": [
      "Python Gradient Boosting with one hot: 0.11542685826694771\n",
      "(0.11456473489131458, 0.005103090463145027)\n"
     ]
    }
   ],
   "source": [
    "gbr_param_dist = {'learning_rate': np.linspace(0,1,1000), \n",
    "             'n_estimators': np.arange(100, 2000, 100),\n",
    "             'max_depth': np.arange(2, 20, 2),\n",
    "             'max_features': ['auto', 'sqrt', 'log2'],\n",
    "             'min_samples_leaf': np.arange(1, 11),\n",
    "             'min_samples_split': np.arange(2,11)}\n",
    "\n",
    "gbr = GradientBoostingRegressor(random_state=100, loss='huber')\n",
    "\n",
    "gbr_result, gbr_model = tune_performance(gbr, X, y, gbr_param_dist)\n",
    "\n",
    "print('Python Gradient Boosting with one hot:',gbr_result)\n",
    "\n",
    "gbr_one_hot_result = check_performance(gbr_model, X, y)\n",
    "print(gbr_one_hot_result)"
   ]
  },
  {
   "cell_type": "code",
   "execution_count": 543,
   "metadata": {},
   "outputs": [
    {
     "name": "stdout",
     "output_type": "stream",
     "text": [
      "Random Forest Boosting with one hot: 0.13890524383003552\n"
     ]
    }
   ],
   "source": [
    "rf_param_dist = {\n",
    "    'n_estimators': np.arange(100, 2000, 100),\n",
    "     'max_depth': np.arange(2, 20, 2),\n",
    "     'max_features': ['auto', 'sqrt', 'log2'],\n",
    "     'min_samples_leaf': np.arange(1, 11),\n",
    "     'min_samples_split': np.arange(2,11)\n",
    "}\n",
    "\n",
    "rf = RandomForestRegressor(random_state=100, criterion='mse')\n",
    "\n",
    "rf_result, rf_model = tune_performance(rf, X, y, rf_param_dist)\n",
    "\n",
    "print('Random Forest Boosting with one hot:', rf_result)\n",
    "\n",
    "rf_one_hot_average = check_performance(rf_model, X, y)"
   ]
  },
  {
   "cell_type": "markdown",
   "metadata": {},
   "source": [
    "#### Conclusion\n",
    "- Random forest performed too bad. Give it up.\n",
    "- stackModel ideas borrow from https://www.kaggle.com/serigne/stacked-regressions-top-4-on-leaderboard/notebook"
   ]
  },
  {
   "cell_type": "code",
   "execution_count": 590,
   "metadata": {},
   "outputs": [],
   "source": [
    "class stackModel(BaseEstimator, RegressorMixin, TransformerMixin):\n",
    "    def __init__(self, base_models, meta_model, n_folds=5):\n",
    "        self.base_models = base_models\n",
    "        self.meta_model = meta_model\n",
    "        self.n_folds = n_folds\n",
    "    \n",
    "    def fit(self, X, y):\n",
    "        kf = KFold(n_splits=self.n_folds, shuffle=True, random_state=100)\n",
    "        \n",
    "        self.meta_model_clone = clone(self.meta_model)\n",
    "        self.base_models_list = [[] for m in self.base_models]\n",
    "        \n",
    "        oof_predictions = np.zeros((X.shape[0], len(self.base_models)))\n",
    "        \n",
    "        for i, model in enumerate(self.base_models):\n",
    "            for train_ix, hold_out_ix in kf.split(X, y):\n",
    "                temp_m = clone(model)\n",
    "                temp_m.fit(X.loc[train_ix,:], y[train_ix])\n",
    "                \n",
    "                # store model for prediction use\n",
    "                self.base_models_list[i].append(temp_m)\n",
    "                # store oof prediction as features for meta_model\n",
    "                oof_predictions[hold_out_ix, i] = temp_m.predict(X.loc[hold_out_ix, :])\n",
    "        \n",
    "        self.meta_model_clone.fit(oof_predictions, y)\n",
    "        return self\n",
    "    \n",
    "    def predict(self, X):\n",
    "        meta_model_features = np.column_stack([\n",
    "                np.column_stack([temp_m.predict(X) for temp_m in model]).mean(axis=1) \n",
    "                    for model in self.base_models_list\n",
    "            ])\n",
    "        \n",
    "        \n",
    "        return self.meta_model_clone.predict(meta_model_features)"
   ]
  },
  {
   "cell_type": "code",
   "execution_count": 555,
   "metadata": {},
   "outputs": [],
   "source": [
    "lasso = make_pipeline(RobustScaler(), Lasso(alpha=0.005, random_state=100))"
   ]
  },
  {
   "cell_type": "code",
   "execution_count": 591,
   "metadata": {},
   "outputs": [],
   "source": [
    "stack_m = stackModel(base_models=(rid_m, ela_m, gbr_model), meta_model=lasso)"
   ]
  },
  {
   "cell_type": "code",
   "execution_count": 622,
   "metadata": {},
   "outputs": [
    {
     "data": {
      "text/plain": [
       "(nan, nan)"
      ]
     },
     "execution_count": 622,
     "metadata": {},
     "output_type": "execute_result"
    }
   ],
   "source": [
    "check_performance(stack_m, X, y)"
   ]
  },
  {
   "cell_type": "code",
   "execution_count": 602,
   "metadata": {},
   "outputs": [],
   "source": [
    "def rmsle_cv(model):\n",
    "    kf = KFold(n_splits=5, shuffle=True, random_state=42).get_n_splits(X.values)\n",
    "    rmse= np.sqrt(-cross_val_score(model, X.values, y, scoring=\"neg_mean_squared_error\", cv = kf))\n",
    "    return(rmse)"
   ]
  },
  {
   "cell_type": "code",
   "execution_count": 610,
   "metadata": {},
   "outputs": [],
   "source": [
    "def test_score(y_true, y_pred):\n",
    "    return np.sqrt(np.mean((y_true-y_pred)**2))"
   ]
  },
  {
   "cell_type": "code",
   "execution_count": 616,
   "metadata": {},
   "outputs": [],
   "source": [
    "stack_train_result = stack_m.predict(X)\n",
    "xgb_train_result = xgb_model.predict(X)\n",
    "lgb_train_result = lgb_model1.predict(X2)"
   ]
  },
  {
   "cell_type": "code",
   "execution_count": 617,
   "metadata": {},
   "outputs": [
    {
     "data": {
      "text/plain": [
       "0.08958165475052736"
      ]
     },
     "execution_count": 617,
     "metadata": {},
     "output_type": "execute_result"
    }
   ],
   "source": [
    "test_score(y, stack_train_result)"
   ]
  },
  {
   "cell_type": "code",
   "execution_count": 618,
   "metadata": {},
   "outputs": [
    {
     "data": {
      "text/plain": [
       "0.04978429029459906"
      ]
     },
     "execution_count": 618,
     "metadata": {},
     "output_type": "execute_result"
    }
   ],
   "source": [
    "test_score(y, xgb_train_result)"
   ]
  },
  {
   "cell_type": "code",
   "execution_count": 619,
   "metadata": {},
   "outputs": [
    {
     "data": {
      "text/plain": [
       "0.06549372103974674"
      ]
     },
     "execution_count": 619,
     "metadata": {},
     "output_type": "execute_result"
    }
   ],
   "source": [
    "test_score(y, lgb_train_result)"
   ]
  },
  {
   "cell_type": "code",
   "execution_count": 623,
   "metadata": {},
   "outputs": [
    {
     "data": {
      "text/plain": [
       "0.06417271864161546"
      ]
     },
     "execution_count": 623,
     "metadata": {},
     "output_type": "execute_result"
    }
   ],
   "source": [
    "test_score(y, stack_train_result*1/3+xgb_train_result*1/3+lgb_train_result*1/3)"
   ]
  },
  {
   "cell_type": "code",
   "execution_count": 626,
   "metadata": {},
   "outputs": [],
   "source": [
    "stack_pred = stack_m.predict(onehot_test)\n",
    "xgb_pred = xgb_model.predict(onehot_test)\n",
    "lgb_pred = lgb_model1.predict(ml_test.drop('Id', axis=1))"
   ]
  },
  {
   "cell_type": "code",
   "execution_count": 633,
   "metadata": {},
   "outputs": [],
   "source": [
    "ensemble = 0.15*stack_pred+0.7*xgb_pred+0.15*lgb_pred"
   ]
  },
  {
   "cell_type": "code",
   "execution_count": 634,
   "metadata": {},
   "outputs": [],
   "source": [
    "test['SalePrice'] = np.expm1(ensemble)\n",
    "\n",
    "test[['Id', 'SalePrice']].to_csv(file_path + \"submission.csv\", index=False)"
   ]
  }
 ],
 "metadata": {
  "kernelspec": {
   "display_name": "Python 3",
   "language": "python",
   "name": "python3"
  },
  "language_info": {
   "codemirror_mode": {
    "name": "ipython",
    "version": 3
   },
   "file_extension": ".py",
   "mimetype": "text/x-python",
   "name": "python",
   "nbconvert_exporter": "python",
   "pygments_lexer": "ipython3",
   "version": "3.6.10"
  }
 },
 "nbformat": 4,
 "nbformat_minor": 4
}
